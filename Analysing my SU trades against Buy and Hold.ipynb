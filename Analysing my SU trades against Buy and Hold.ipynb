{
 "cells": [
  {
   "cell_type": "markdown",
   "id": "instructional-general",
   "metadata": {},
   "source": [
    "# Analysing my SU trades against Buy and Hold.ipynb\n",
    "> K. Ali Pardhan; @ALIK604"
   ]
  },
  {
   "cell_type": "code",
   "execution_count": 231,
   "id": "express-edmonton",
   "metadata": {},
   "outputs": [],
   "source": [
    "import pandas as pd\n",
    "import numpy as np\n",
    "# !pip install yfinance\n",
    "import yfinance as yf\n",
    "\n",
    "import datetime \n",
    "from dateutil.relativedelta import *\n",
    "\n",
    "from IPython.core.interactiveshell import InteractiveShell\n",
    "InteractiveShell.ast_node_interactivity = \"all\""
   ]
  },
  {
   "cell_type": "code",
   "execution_count": 232,
   "id": "casual-compensation",
   "metadata": {},
   "outputs": [
    {
     "data": {
      "text/html": [
       "<div>\n",
       "<style scoped>\n",
       "    .dataframe tbody tr th:only-of-type {\n",
       "        vertical-align: middle;\n",
       "    }\n",
       "\n",
       "    .dataframe tbody tr th {\n",
       "        vertical-align: top;\n",
       "    }\n",
       "\n",
       "    .dataframe thead th {\n",
       "        text-align: right;\n",
       "    }\n",
       "</style>\n",
       "<table border=\"1\" class=\"dataframe\">\n",
       "  <thead>\n",
       "    <tr style=\"text-align: right;\">\n",
       "      <th></th>\n",
       "      <th>TYPE</th>\n",
       "      <th>QUANTITY</th>\n",
       "      <th>AMOUNT</th>\n",
       "      <th>PRICE</th>\n",
       "    </tr>\n",
       "    <tr>\n",
       "      <th>TRADE DATE</th>\n",
       "      <th></th>\n",
       "      <th></th>\n",
       "      <th></th>\n",
       "      <th></th>\n",
       "    </tr>\n",
       "  </thead>\n",
       "  <tbody>\n",
       "    <tr>\n",
       "      <th>2020-10-21</th>\n",
       "      <td>BUY</td>\n",
       "      <td>14.0</td>\n",
       "      <td>217.00</td>\n",
       "      <td>15.50</td>\n",
       "    </tr>\n",
       "    <tr>\n",
       "      <th>2020-10-22</th>\n",
       "      <td>SELL</td>\n",
       "      <td>14.0</td>\n",
       "      <td>220.78</td>\n",
       "      <td>15.77</td>\n",
       "    </tr>\n",
       "    <tr>\n",
       "      <th>2020-11-11</th>\n",
       "      <td>SELL</td>\n",
       "      <td>42.0</td>\n",
       "      <td>809.76</td>\n",
       "      <td>19.28</td>\n",
       "    </tr>\n",
       "    <tr>\n",
       "      <th>2020-11-11</th>\n",
       "      <td>BUY</td>\n",
       "      <td>42.0</td>\n",
       "      <td>803.88</td>\n",
       "      <td>19.14</td>\n",
       "    </tr>\n",
       "    <tr>\n",
       "      <th>2020-11-24</th>\n",
       "      <td>BUY</td>\n",
       "      <td>50.0</td>\n",
       "      <td>1149.00</td>\n",
       "      <td>22.98</td>\n",
       "    </tr>\n",
       "  </tbody>\n",
       "</table>\n",
       "</div>"
      ],
      "text/plain": [
       "            TYPE  QUANTITY   AMOUNT  PRICE\n",
       "TRADE DATE                                \n",
       "2020-10-21   BUY      14.0   217.00  15.50\n",
       "2020-10-22  SELL      14.0   220.78  15.77\n",
       "2020-11-11  SELL      42.0   809.76  19.28\n",
       "2020-11-11   BUY      42.0   803.88  19.14\n",
       "2020-11-24   BUY      50.0  1149.00  22.98"
      ]
     },
     "execution_count": 232,
     "metadata": {},
     "output_type": "execute_result"
    }
   ],
   "source": [
    "df = pd.read_csv('./SU transactions.csv', parse_dates=['TRADE DATE'], infer_datetime_format=True)\n",
    "\n",
    "df = df.drop(['DESCRIPTION','SETTLEMENT DATE'], axis=1)\n",
    "df = df.sort_values([\"TYPE\"]).set_index(['TRADE DATE']).sort_index()\n",
    "\n",
    "df= df[df['TYPE'] !='DIVIDEND']\n",
    "\n",
    "df['QUANTITY'] = [i[1:] if (i[0]=='-') else i for i in df['QUANTITY'].values]\n",
    "df['QUANTITY'] = list(map(float, df['QUANTITY']))\n",
    "df['AMOUNT'] = [i[2:].replace(',', '') if (i[0]=='-') else i[1:].replace(',', '') for i in df['AMOUNT'].values]\n",
    "df['AMOUNT'] = list(map(float, df['AMOUNT']))\n",
    "\n",
    "df['PRICE'] = df['AMOUNT']/ df['QUANTITY']\n",
    "\n",
    "df.head()"
   ]
  },
  {
   "cell_type": "code",
   "execution_count": 233,
   "id": "boxed-network",
   "metadata": {},
   "outputs": [],
   "source": [
    "df_buy = df[df['TYPE'] =='BUY']\n",
    "df_sell = df[df['TYPE'] =='SELL']"
   ]
  },
  {
   "cell_type": "code",
   "execution_count": 234,
   "id": "wound-running",
   "metadata": {
    "collapsed": false,
    "jupyter": {
     "outputs_hidden": false
    },
    "pycharm": {
     "name": "#%%\n"
    }
   },
   "outputs": [
    {
     "name": "stdout",
     "output_type": "stream",
     "text": [
      "[*********************100%***********************]  1 of 1 completed\n"
     ]
    },
    {
     "data": {
      "image/png": "[encoded data removed]",
      "text/plain": [
       "<Figure size 864x432 with 1 Axes>"
      ]
     },
     "metadata": {
      "needs_background": "light"
     },
     "output_type": "display_data"
    }
   ],
   "source": [
    "ts = yf.download('SU.to', interval = \"1d\", start=df.index[0].date()).drop(['Adj Close', \"Volume\"],axis=1)\n",
    "ts['Date'] = ts.index\n",
    "close = ts.Close\n",
    "_ = close.plot(figsize=(12,6))"
   ]
  },
  {
   "cell_type": "code",
   "execution_count": 235,
   "id": "regulated-program",
   "metadata": {},
   "outputs": [
    {
     "data": {
      "text/html": [
       "<div>\n",
       "<style scoped>\n",
       "    .dataframe tbody tr th:only-of-type {\n",
       "        vertical-align: middle;\n",
       "    }\n",
       "\n",
       "    .dataframe tbody tr th {\n",
       "        vertical-align: top;\n",
       "    }\n",
       "\n",
       "    .dataframe thead th {\n",
       "        text-align: right;\n",
       "    }\n",
       "</style>\n",
       "<table border=\"1\" class=\"dataframe\">\n",
       "  <thead>\n",
       "    <tr style=\"text-align: right;\">\n",
       "      <th></th>\n",
       "      <th>TYPE</th>\n",
       "      <th>QUANTITY</th>\n",
       "      <th>AMOUNT</th>\n",
       "      <th>PRICE</th>\n",
       "    </tr>\n",
       "    <tr>\n",
       "      <th>TRADE DATE</th>\n",
       "      <th></th>\n",
       "      <th></th>\n",
       "      <th></th>\n",
       "      <th></th>\n",
       "    </tr>\n",
       "  </thead>\n",
       "  <tbody>\n",
       "    <tr>\n",
       "      <th>2020-10-21</th>\n",
       "      <td>BUY</td>\n",
       "      <td>14.0</td>\n",
       "      <td>217.00</td>\n",
       "      <td>15.50</td>\n",
       "    </tr>\n",
       "    <tr>\n",
       "      <th>2020-10-22</th>\n",
       "      <td>SELL</td>\n",
       "      <td>14.0</td>\n",
       "      <td>220.78</td>\n",
       "      <td>15.77</td>\n",
       "    </tr>\n",
       "    <tr>\n",
       "      <th>2020-11-11</th>\n",
       "      <td>SELL</td>\n",
       "      <td>42.0</td>\n",
       "      <td>809.76</td>\n",
       "      <td>19.28</td>\n",
       "    </tr>\n",
       "    <tr>\n",
       "      <th>2020-11-11</th>\n",
       "      <td>BUY</td>\n",
       "      <td>42.0</td>\n",
       "      <td>803.88</td>\n",
       "      <td>19.14</td>\n",
       "    </tr>\n",
       "    <tr>\n",
       "      <th>2020-11-24</th>\n",
       "      <td>BUY</td>\n",
       "      <td>50.0</td>\n",
       "      <td>1149.00</td>\n",
       "      <td>22.98</td>\n",
       "    </tr>\n",
       "    <tr>\n",
       "      <th>2020-11-24</th>\n",
       "      <td>BUY</td>\n",
       "      <td>8.0</td>\n",
       "      <td>183.04</td>\n",
       "      <td>22.88</td>\n",
       "    </tr>\n",
       "    <tr>\n",
       "      <th>2020-11-24</th>\n",
       "      <td>SELL</td>\n",
       "      <td>8.0</td>\n",
       "      <td>183.60</td>\n",
       "      <td>22.95</td>\n",
       "    </tr>\n",
       "    <tr>\n",
       "      <th>2020-11-24</th>\n",
       "      <td>SELL</td>\n",
       "      <td>8.0</td>\n",
       "      <td>184.16</td>\n",
       "      <td>23.02</td>\n",
       "    </tr>\n",
       "    <tr>\n",
       "      <th>2020-11-24</th>\n",
       "      <td>SELL</td>\n",
       "      <td>39.0</td>\n",
       "      <td>895.44</td>\n",
       "      <td>22.96</td>\n",
       "    </tr>\n",
       "    <tr>\n",
       "      <th>2020-11-24</th>\n",
       "      <td>BUY</td>\n",
       "      <td>8.0</td>\n",
       "      <td>183.52</td>\n",
       "      <td>22.94</td>\n",
       "    </tr>\n",
       "  </tbody>\n",
       "</table>\n",
       "</div>"
      ],
      "text/plain": [
       "            TYPE  QUANTITY   AMOUNT  PRICE\n",
       "TRADE DATE                                \n",
       "2020-10-21   BUY      14.0   217.00  15.50\n",
       "2020-10-22  SELL      14.0   220.78  15.77\n",
       "2020-11-11  SELL      42.0   809.76  19.28\n",
       "2020-11-11   BUY      42.0   803.88  19.14\n",
       "2020-11-24   BUY      50.0  1149.00  22.98\n",
       "2020-11-24   BUY       8.0   183.04  22.88\n",
       "2020-11-24  SELL       8.0   183.60  22.95\n",
       "2020-11-24  SELL       8.0   184.16  23.02\n",
       "2020-11-24  SELL      39.0   895.44  22.96\n",
       "2020-11-24   BUY       8.0   183.52  22.94"
      ]
     },
     "execution_count": 235,
     "metadata": {},
     "output_type": "execute_result"
    }
   ],
   "source": [
    "df.head(10)"
   ]
  },
  {
   "cell_type": "markdown",
   "id": "logical-adaptation",
   "metadata": {},
   "source": [
    "### Aggregate \n",
    "> 2 ways"
   ]
  },
  {
   "cell_type": "code",
   "execution_count": 236,
   "id": "convertible-synthesis",
   "metadata": {},
   "outputs": [],
   "source": [
    "# df[\"TRADE DATE\"] = df.index\n",
    "# df = df.reset_index(drop=True)\n",
    "# df = df.groupby([\"TRADE DATE\", \"TYPE\"]).agg(\"sum\") # naa That's too easy\n",
    "# df = df.reset_index().set_index(\"TRADE DATE\")\n",
    "# df.head(10)"
   ]
  },
  {
   "cell_type": "code",
   "execution_count": 237,
   "id": "stuffed-cricket",
   "metadata": {
    "collapsed": false,
    "jupyter": {
     "outputs_hidden": false
    },
    "pycharm": {
     "name": "#%%\n"
    }
   },
   "outputs": [
    {
     "name": "stderr",
     "output_type": "stream",
     "text": [
      "c:\\users\\kali\\appdata\\local\\programs\\python\\python37\\lib\\site-packages\\ipykernel_launcher.py:22: RuntimeWarning: invalid value encountered in double_scalars\n"
     ]
    }
   ],
   "source": [
    "# close\n",
    "list_drafting_fixed_df = [] # list of dicts\n",
    "for i in df.index.unique():\n",
    "    tmp = df.loc[i]\n",
    "    if type(tmp) == pd.DataFrame:\n",
    "        if tmp.shape[0] > 2: # when > 2, do foo with all BUYS, do FOO with all SELlS\n",
    "            t = tmp[tmp['TYPE'] ==\"BUY\"].sum()\n",
    "            d = dict()\n",
    "            d[\"TRADE DATE\"] = tmp.index[0]\n",
    "            d[\"TYPE\"] = \"BUY\"\n",
    "            d[\"QUANTITY\"] = t.QUANTITY\n",
    "            d[\"AMOUNT\"] = round(t.AMOUNT, 4)\n",
    "            d[\"PRICE\"] = round(d[\"AMOUNT\"]/d[\"QUANTITY\"], 4)\n",
    "            list_drafting_fixed_df.append(d)\n",
    "            \n",
    "            t = tmp[tmp['TYPE'] ==\"SELL\"].sum()\n",
    "            d = dict()\n",
    "            d[\"TRADE DATE\"] = tmp.index[0]\n",
    "            d[\"TYPE\"] = \"SELL\"\n",
    "            d[\"QUANTITY\"] = t.QUANTITY\n",
    "            d[\"AMOUNT\"] = round(t.AMOUNT, 4)\n",
    "            d[\"PRICE\"] = round(d[\"AMOUNT\"]/d[\"QUANTITY\"], 4)\n",
    "            list_drafting_fixed_df.append(d)\n",
    "            continue # end of DF of size > 2\n",
    "        t = tmp.iloc[0]\n",
    "        d = dict()\n",
    "        d[\"TRADE DATE\"] = tmp.index[0]\n",
    "        d[\"TYPE\"] = t.TYPE\n",
    "        d[\"QUANTITY\"] = t.QUANTITY\n",
    "        d[\"AMOUNT\"] = round(t.AMOUNT, 4)\n",
    "        d[\"PRICE\"] = round(d[\"AMOUNT\"]/d[\"QUANTITY\"], 4)\n",
    "        list_drafting_fixed_df.append(d)\n",
    "        \n",
    "        t = tmp.iloc[1]\n",
    "        d = dict()\n",
    "        d[\"TRADE DATE\"] = tmp.index[0]\n",
    "        d[\"TYPE\"] = t.TYPE\n",
    "        d[\"QUANTITY\"] = t.QUANTITY\n",
    "        d[\"AMOUNT\"] = round(t.AMOUNT, 4)\n",
    "        d[\"PRICE\"] = round(d[\"AMOUNT\"]/d[\"QUANTITY\"], 4)\n",
    "        list_drafting_fixed_df.append(d)\n",
    "        continue # end of DF of size 2\n",
    "          \n",
    "    t = pd.DataFrame(tmp).transpose()\n",
    "#     t\n",
    "    d = dict()\n",
    "    d[\"TRADE DATE\"] = t.index[0]\n",
    "    d[\"TYPE\"] = t.TYPE.values[0]\n",
    "    d[\"QUANTITY\"] = t.QUANTITY.values[0]\n",
    "    d[\"AMOUNT\"] = t.AMOUNT.values[0]\n",
    "    d[\"PRICE\"] = d[\"AMOUNT\"]/d[\"QUANTITY\"]\n",
    "    list_drafting_fixed_df.append(d)\n",
    "#     d\n",
    "\n",
    "    continue # end of Series (like a DF of size 1)\n",
    "\n",
    "df = pd.DataFrame(list_drafting_fixed_df).set_index(\"TRADE DATE\").sort_index()"
   ]
  },
  {
   "cell_type": "code",
   "execution_count": null,
   "id": "facial-shopping",
   "metadata": {},
   "outputs": [],
   "source": []
  },
  {
   "cell_type": "markdown",
   "id": "acoustic-circle",
   "metadata": {
    "jupyter": {
     "outputs_hidden": false
    },
    "pycharm": {
     "name": "#%%\n"
    }
   },
   "source": [
    "```text\n",
    "ALGO\n",
    "\n",
    "Itr over every day\n",
    "    if the zoomer holds overnight, simulate the boomer buying at open and selling at close\n",
    "    \n",
    "    let amount be the book value at end of day, on days held overnight. \n",
    "    \n",
    "TODO - Boomer accounting does not work right when zoomer buys and selling inside of a day. \n",
    "```"
   ]
  },
  {
   "cell_type": "code",
   "execution_count": 238,
   "id": "durable-shelf",
   "metadata": {
    "collapsed": false,
    "jupyter": {
     "outputs_hidden": false
    },
    "pycharm": {
     "name": "#%%\n"
    }
   },
   "outputs": [
    {
     "name": "stdout",
     "output_type": "stream",
     "text": [
      "Sample input\n"
     ]
    },
    {
     "data": {
      "text/html": [
       "<div>\n",
       "<style scoped>\n",
       "    .dataframe tbody tr th:only-of-type {\n",
       "        vertical-align: middle;\n",
       "    }\n",
       "\n",
       "    .dataframe tbody tr th {\n",
       "        vertical-align: top;\n",
       "    }\n",
       "\n",
       "    .dataframe thead th {\n",
       "        text-align: right;\n",
       "    }\n",
       "</style>\n",
       "<table border=\"1\" class=\"dataframe\">\n",
       "  <thead>\n",
       "    <tr style=\"text-align: right;\">\n",
       "      <th></th>\n",
       "      <th>TYPE</th>\n",
       "      <th>QUANTITY</th>\n",
       "      <th>AMOUNT</th>\n",
       "      <th>PRICE</th>\n",
       "    </tr>\n",
       "    <tr>\n",
       "      <th>TRADE DATE</th>\n",
       "      <th></th>\n",
       "      <th></th>\n",
       "      <th></th>\n",
       "      <th></th>\n",
       "    </tr>\n",
       "  </thead>\n",
       "  <tbody>\n",
       "    <tr>\n",
       "      <th>2020-10-21</th>\n",
       "      <td>BUY</td>\n",
       "      <td>14.0</td>\n",
       "      <td>217.00</td>\n",
       "      <td>15.50</td>\n",
       "    </tr>\n",
       "    <tr>\n",
       "      <th>2020-10-22</th>\n",
       "      <td>SELL</td>\n",
       "      <td>14.0</td>\n",
       "      <td>220.78</td>\n",
       "      <td>15.77</td>\n",
       "    </tr>\n",
       "    <tr>\n",
       "      <th>2020-11-11</th>\n",
       "      <td>SELL</td>\n",
       "      <td>42.0</td>\n",
       "      <td>809.76</td>\n",
       "      <td>19.28</td>\n",
       "    </tr>\n",
       "    <tr>\n",
       "      <th>2020-11-11</th>\n",
       "      <td>BUY</td>\n",
       "      <td>42.0</td>\n",
       "      <td>803.88</td>\n",
       "      <td>19.14</td>\n",
       "    </tr>\n",
       "    <tr>\n",
       "      <th>2020-11-24</th>\n",
       "      <td>BUY</td>\n",
       "      <td>50.0</td>\n",
       "      <td>1149.00</td>\n",
       "      <td>22.98</td>\n",
       "    </tr>\n",
       "  </tbody>\n",
       "</table>\n",
       "</div>"
      ],
      "text/plain": [
       "            TYPE  QUANTITY   AMOUNT  PRICE\n",
       "TRADE DATE                                \n",
       "2020-10-21   BUY      14.0   217.00  15.50\n",
       "2020-10-22  SELL      14.0   220.78  15.77\n",
       "2020-11-11  SELL      42.0   809.76  19.28\n",
       "2020-11-11   BUY      42.0   803.88  19.14\n",
       "2020-11-24   BUY      50.0  1149.00  22.98"
      ]
     },
     "execution_count": 238,
     "metadata": {},
     "output_type": "execute_result"
    },
    {
     "name": "stdout",
     "output_type": "stream",
     "text": [
      "Logs: \n",
      "++--=====================================================--++\n",
      "Holding 14\tOver night on 2020-10-21. Zoomer book value 217.00\n",
      "Holding 0\tOver night on 2020-10-22. Zoomer book value -3.78\n",
      "Holding -42\tOver night on 2020-11-11. Zoomer book value -813.54\n",
      "Holding 0\tOver night on 2020-11-11. Zoomer book value -9.66\n",
      "Holding 50\tOver night on 2020-11-24. Zoomer book value 1139.34\n",
      "Holding 58\tOver night on 2020-11-24. Zoomer book value 1322.38\n",
      "Holding 50\tOver night on 2020-11-24. Zoomer book value 1138.78\n",
      "Holding 42\tOver night on 2020-11-24. Zoomer book value 954.62\n",
      "Holding 3\tOver night on 2020-11-24. Zoomer book value 59.18\n",
      "Holding 11\tOver night on 2020-11-24. Zoomer book value 242.70\n",
      "Holding 50\tOver night on 2020-11-24. Zoomer book value 1134.24\n",
      "Holding 35\tOver night on 2020-11-25. Zoomer book value 791.94\n",
      "Holding -15\tOver night on 2020-11-25. Zoomer book value -346.06\n",
      "Holding 35\tOver night on 2020-11-25. Zoomer book value 793.94\n",
      "Holding 85\tOver night on 2020-11-25. Zoomer book value 1930.94\n",
      "Holding 35\tOver night on 2020-11-25. Zoomer book value 791.44\n",
      "Holding 60\tOver night on 2020-11-26. Zoomer book value 1356.69\n",
      "Holding 75\tOver night on 2020-11-26. Zoomer book value 1697.79\n",
      "Holding 0\tOver night on 2020-12-02. Zoomer book value 147.54\n",
      "Holding -75\tOver night on 2020-12-02. Zoomer book value -1446.96\n",
      "Holding 0\tOver night on 2020-12-02. Zoomer book value 143.79\n",
      "Holding 75\tOver night on 2020-12-02. Zoomer book value 1687.29\n",
      "Holding 35\tOver night on 2020-12-03. Zoomer book value 833.69\n",
      "Holding 75\tOver night on 2020-12-03. Zoomer book value 1687.29\n",
      "Holding 40\tOver night on 2020-12-04. Zoomer book value 893.49\n",
      "Holding 15\tOver night on 2020-12-04. Zoomer book value 326.24\n",
      "Holding -15\tOver night on 2020-12-04. Zoomer book value -357.46\n",
      "Holding 20\tOver night on 2020-12-04. Zoomer book value 435.64\n",
      "Holding 0\tOver night on 2020-12-08. Zoomer book value -25.96\n",
      "Holding -35\tOver night on 2020-12-08. Zoomer book value -829.21\n",
      "Holding -12\tOver night on 2020-12-08. Zoomer book value -299.75\n",
      "Holding 23\tOver night on 2020-12-08. Zoomer book value 492.65\n",
      "Holding 0\tOver night on 2020-12-08. Zoomer book value -35.89\n",
      "Holding 4\tOver night on 2020-12-09. Zoomer book value 57.03\n",
      "Holding 23\tOver night on 2020-12-09. Zoomer book value 495.93\n",
      "Holding 43\tOver night on 2020-12-09. Zoomer book value 961.93\n",
      "Holding 83\tOver night on 2020-12-09. Zoomer book value 1889.93\n",
      "Holding 123\tOver night on 2020-12-10. Zoomer book value 2844.73\n",
      "Holding 83\tOver night on 2020-12-10. Zoomer book value 1888.73\n",
      "Holding 53\tOver night on 2020-12-10. Zoomer book value 1169.93\n",
      "Holding 13\tOver night on 2020-12-10. Zoomer book value 223.13\n",
      "Holding 43\tOver night on 2020-12-10. Zoomer book value 938.93\n",
      "Holding 83\tOver night on 2020-12-10. Zoomer book value 1885.73\n",
      "Holding 124\tOver night on 2020-12-11. Zoomer book value 2850.87\n",
      "Holding 84\tOver night on 2020-12-11. Zoomer book value 1903.27\n",
      "Holding 54\tOver night on 2020-12-15. Zoomer book value 1214.77\n",
      "Holding 84\tOver night on 2020-12-15. Zoomer book value 1902.07\n",
      "Holding 44\tOver night on 2020-12-17. Zoomer book value 1008.87\n",
      "Holding 4\tOver night on 2020-12-17. Zoomer book value 114.47\n",
      "Holding -36\tOver night on 2020-12-17. Zoomer book value -780.73\n",
      "Holding -40\tOver night on 2020-12-17. Zoomer book value -870.29\n",
      "Holding 44\tOver night on 2020-12-17. Zoomer book value 1012.99\n",
      "Holding 84\tOver night on 2020-12-17. Zoomer book value 1906.19\n",
      "Holding 44\tOver night on 2020-12-21. Zoomer book value 1043.79\n",
      "Holding 4\tOver night on 2020-12-21. Zoomer book value 176.99\n",
      "Holding -36\tOver night on 2020-12-22. Zoomer book value -680.61\n",
      "Holding 44\tOver night on 2020-12-22. Zoomer book value 1040.99\n",
      "Holding 84\tOver night on 2020-12-22. Zoomer book value 1894.99\n",
      "Holding 167\tOver night on 2021-01-05. Zoomer book value 3810.63\n",
      "Holding 127\tOver night on 2021-01-05. Zoomer book value 2898.23\n",
      "Holding 83\tOver night on 2021-01-05. Zoomer book value 1887.55\n",
      "Holding 80\tOver night on 2021-01-07. Zoomer book value 1815.46\n",
      "Holding 0\tOver night on 2021-01-07. Zoomer book value -90.94\n",
      "Holding 30\tOver night on 2021-01-13. Zoomer book value 613.46\n",
      "Holding 0\tOver night on 2021-01-13. Zoomer book value -93.04\n",
      "Holding 40\tOver night on 2021-01-13. Zoomer book value 846.96\n",
      "Holding 0\tOver night on 2021-01-14. Zoomer book value -113.04\n",
      "Holding 30\tOver night on 2021-01-15. Zoomer book value 594.06\n",
      "Holding 55\tOver night on 2021-01-25. Zoomer book value 1151.56\n",
      "Holding 80\tOver night on 2021-01-25. Zoomer book value 1704.31\n",
      "Holding 100\tOver night on 2021-01-29. Zoomer book value 2130.91\n",
      "Holding 99\tOver night on 2021-02-01. Zoomer book value 2109.26\n",
      "Holding 89\tOver night on 2021-02-01. Zoomer book value 1895.26\n",
      "Holding 79\tOver night on 2021-02-01. Zoomer book value 1681.26\n",
      "Holding -20\tOver night on 2021-02-01. Zoomer book value -464.07\n",
      "Holding -10\tOver night on 2021-02-01. Zoomer book value -251.57\n",
      "Holding 90\tOver night on 2021-02-01. Zoomer book value 1911.43\n",
      "Holding 100\tOver night on 2021-02-01. Zoomer book value 2124.53\n",
      "Holding 93\tOver night on 2021-02-02. Zoomer book value 1971.37\n",
      "Holding 100\tOver night on 2021-02-02. Zoomer book value 2122.43\n",
      "Holding 107\tOver night on 2021-02-02. Zoomer book value 2274.68\n",
      "Holding 137\tOver night on 2021-02-02. Zoomer book value 2931.98\n",
      "Holding 157\tOver night on 2021-02-03. Zoomer book value 3374.38\n",
      "Holding 137\tOver night on 2021-02-03. Zoomer book value 2931.58\n",
      "Holding 100\tOver night on 2021-02-03. Zoomer book value 2108.70\n",
      "Holding 120\tOver night on 2021-02-05. Zoomer book value 2551.50\n",
      "Holding 70\tOver night on 2021-02-08. Zoomer book value 1436.50\n",
      "Holding 50\tOver night on 2021-02-08. Zoomer book value 992.70\n",
      "Holding 0\tOver night on 2021-02-08. Zoomer book value -122.30\n",
      "Holding -40\tOver night on 2021-02-08. Zoomer book value -1015.10\n",
      "Holding 0\tOver night on 2021-02-08. Zoomer book value -127.10\n",
      "Holding 100\tOver night on 2021-02-09. Zoomer book value 2092.90\n",
      "Holding 25\tOver night on 2021-02-09. Zoomer book value 379.15\n",
      "++--=====================================================--++\n",
      "[Zoomer] Number of shares: 25\n",
      "[Zoomer] Book Value: 379.15\n",
      "[Zoomer] Money: -379.15\n",
      "\n",
      "[Boomer] Number of shares: 25\n",
      "[Boomer] Book Value: 208.73\n",
      "[Boomer] Money: -208.73\n",
      "++--=====================================================--++\n",
      "[Zoomer] Money after Liquidation: 186.60\n",
      "[Boomer] Money after Liquidation: 357.02\n"
     ]
    }
   ],
   "source": [
    "# df = df.sort_values([\"TYPE\"]).sort_index()\n",
    "print(\"Sample input\")\n",
    "df.head(5)\n",
    "print(\"Logs: \")\n",
    "print(f'++--=====================================================--++')\n",
    "\n",
    "\n",
    "zoomer_holdings_book_value = 0.0 # cased in; SUM(buy price * shares) \n",
    "zoomer_money = 0.0               # cashed out \n",
    "zoomer_holdings_shares = 0.0     # shares\n",
    "\n",
    "boomer_holdings_book_value = 0.0 # cased in; SUM(buy price * shares) \n",
    "boomer_money = 0.0               # cashed out \n",
    "boomer_holdings_shares = 0.0     #shares\n",
    "\n",
    "for index, row in df.iterrows():\n",
    "    # Zoomer\n",
    "    if row.TYPE ==\"BUY\":\n",
    "        zoomer_holdings_shares += row.QUANTITY\n",
    "        zoomer_holdings_book_value += row.AMOUNT\n",
    "        zoomer_money -= row.AMOUNT\n",
    "    elif row.TYPE ==\"SELL\": # Selling Shares we dont own is a mistake. Safe to assume the Date might be off, but the numbers are correct.\n",
    "        zoomer_holdings_shares -= row.QUANTITY\n",
    "        zoomer_holdings_book_value -= row.AMOUNT\n",
    "        zoomer_money += row.AMOUNT\n",
    "\n",
    "    print(f'Holding {zoomer_holdings_shares:.0f}\\tOver night on {index.date()}. Zoomer book value {zoomer_holdings_book_value:.2f}')\n",
    "        \n",
    "    # Boomer reacc\n",
    "    if zoomer_holdings_shares > boomer_holdings_shares:\n",
    "        # Boomer buys N shares @ Open\n",
    "        shares_to_buy = zoomer_holdings_shares - boomer_holdings_shares\n",
    "        trans = shares_to_buy * ts[ts['Date'] == index].Open.values[0] # TODO Open Price?\n",
    "        boomer_holdings_book_value += trans\n",
    "        boomer_holdings_shares += shares_to_buy\n",
    "        boomer_money -= trans\n",
    "    if zoomer_holdings_shares < boomer_holdings_shares:\n",
    "        # Boomer sells N shares @ Close\n",
    "        shares_to_sell = boomer_holdings_shares - zoomer_holdings_shares # flipping these is bad\n",
    "        trans = shares_to_sell * ts[ts['Date'] == index].Close.values[0] # TODO Close price? \n",
    "        boomer_money += trans\n",
    "        boomer_holdings_shares -= shares_to_sell     # sell it all\n",
    "        boomer_holdings_book_value -= trans          # sell it all\n",
    "    else: \n",
    "        # zoomer_holdings_shares == boomer_holdings_shares, There is no change, no need to reacc\n",
    "        pass \n",
    "        \n",
    "    if(float(zoomer_holdings_shares) != float(boomer_holdings_shares)): \n",
    "        print(f'[Zoomer] Number of shares: {zoomer_holdings_shares:.0f}, type {type(zoomer_holdings_shares)}')\n",
    "        print(f'[Boomer] Number of shares: {boomer_holdings_shares:.0f}, type {type(boomer_holdings_shares)}')\n",
    "\n",
    "\n",
    "print(f'++--=====================================================--++')\n",
    "       \n",
    "print(f'[Zoomer] Number of shares: {zoomer_holdings_shares:.0f}')\n",
    "print(f'[Zoomer] Book Value: {zoomer_holdings_book_value:.2f}')\n",
    "print(f'[Zoomer] Money: {zoomer_money:.2f}')\n",
    "print(f'')\n",
    "\n",
    "print(f'[Boomer] Number of shares: {boomer_holdings_shares:.0f}')\n",
    "print(f'[Boomer] Book Value: {boomer_holdings_book_value:.2f}')\n",
    "print(f'[Boomer] Money: {boomer_money:.2f}')\n",
    "\n",
    "print(f'++--=====================================================--++')\n",
    "\n",
    "final_close = ts[ts['Date'] == df.index[-1]].Close.values[0] # close price on the last day of a trade\n",
    "print(f'[Zoomer] Money after Liquidation: {zoomer_money+final_close*zoomer_holdings_shares:.2f}')\n",
    "print(f'[Boomer] Money after Liquidation: {boomer_money+final_close*boomer_holdings_shares:.2f}')"
   ]
  },
  {
   "cell_type": "code",
   "execution_count": 33,
   "id": "mobile-journalist",
   "metadata": {
    "collapsed": false,
    "jupyter": {
     "outputs_hidden": false
    },
    "pycharm": {
     "name": "#%%\n"
    }
   },
   "outputs": [],
   "source": [
    "# ts.index = ts.index.astype(str)\n",
    "# ts.index[0]\n",
    "# index\n",
    "# index + relativedelta(days=+1)\n",
    "\n",
    "agg-way 1: \n",
    "[Zoomer] Money after Liquidation: 186.60\n",
    "[Boomer] Money after Liquidation: 357.02\n",
    "\n",
    "agg-way 2:\n",
    "[Zoomer] Money after Liquidation: 186.60\n",
    "[Boomer] Money after Liquidation: 357.02"
   ]
  },
  {
   "cell_type": "code",
   "execution_count": null,
   "id": "wooden-vacuum",
   "metadata": {
    "collapsed": false,
    "jupyter": {
     "outputs_hidden": false
    },
    "pycharm": {
     "name": "#%%\n"
    }
   },
   "outputs": [],
   "source": []
  },
  {
   "cell_type": "code",
   "execution_count": null,
   "id": "intermediate-description",
   "metadata": {
    "collapsed": false,
    "jupyter": {
     "outputs_hidden": false
    },
    "pycharm": {
     "name": "#%%\n"
    }
   },
   "outputs": [],
   "source": []
  },
  {
   "cell_type": "code",
   "execution_count": null,
   "id": "serial-wrapping",
   "metadata": {
    "collapsed": false,
    "jupyter": {
     "outputs_hidden": false
    },
    "pycharm": {
     "name": "#%%\n"
    }
   },
   "outputs": [],
   "source": []
  },
  {
   "cell_type": "code",
   "execution_count": null,
   "id": "isolated-apartment",
   "metadata": {
    "collapsed": false,
    "jupyter": {
     "outputs_hidden": false
    },
    "pycharm": {
     "name": "#%%\n"
    }
   },
   "outputs": [],
   "source": []
  },
  {
   "cell_type": "code",
   "execution_count": null,
   "id": "distinguished-perth",
   "metadata": {
    "collapsed": false,
    "jupyter": {
     "outputs_hidden": false
    },
    "pycharm": {
     "name": "#%%\n"
    }
   },
   "outputs": [],
   "source": []
  },
  {
   "cell_type": "code",
   "execution_count": null,
   "id": "joint-replacement",
   "metadata": {
    "collapsed": false,
    "jupyter": {
     "outputs_hidden": false
    },
    "pycharm": {
     "name": "#%%\n"
    }
   },
   "outputs": [],
   "source": []
  },
  {
   "cell_type": "code",
   "execution_count": null,
   "id": "another-shoulder",
   "metadata": {},
   "outputs": [],
   "source": []
  },
  {
   "cell_type": "code",
   "execution_count": null,
   "id": "paperback-failure",
   "metadata": {
    "collapsed": false,
    "jupyter": {
     "outputs_hidden": false
    },
    "pycharm": {
     "name": "#%%\n"
    }
   },
   "outputs": [],
   "source": []
  },
  {
   "cell_type": "code",
   "execution_count": null,
   "id": "collective-archive",
   "metadata": {},
   "outputs": [],
   "source": []
  },
  {
   "cell_type": "code",
   "execution_count": null,
   "id": "found-istanbul",
   "metadata": {},
   "outputs": [],
   "source": []
  },
  {
   "cell_type": "code",
   "execution_count": null,
   "id": "antique-appearance",
   "metadata": {},
   "outputs": [],
   "source": []
  },
  {
   "cell_type": "code",
   "execution_count": null,
   "id": "defined-leisure",
   "metadata": {},
   "outputs": [],
   "source": []
  },
  {
   "cell_type": "code",
   "execution_count": null,
   "id": "baking-texture",
   "metadata": {},
   "outputs": [],
   "source": []
  },
  {
   "cell_type": "code",
   "execution_count": null,
   "id": "junior-intro",
   "metadata": {},
   "outputs": [],
   "source": []
  },
  {
   "cell_type": "code",
   "execution_count": null,
   "id": "sapphire-mayor",
   "metadata": {},
   "outputs": [],
   "source": []
  },
  {
   "cell_type": "code",
   "execution_count": null,
   "id": "loving-tender",
   "metadata": {},
   "outputs": [],
   "source": []
  },
  {
   "cell_type": "code",
   "execution_count": null,
   "id": "extra-teach",
   "metadata": {},
   "outputs": [],
   "source": []
  },
  {
   "cell_type": "code",
   "execution_count": null,
   "id": "received-depression",
   "metadata": {},
   "outputs": [],
   "source": []
  },
  {
   "cell_type": "code",
   "execution_count": null,
   "id": "intellectual-backup",
   "metadata": {},
   "outputs": [],
   "source": []
  },
  {
   "cell_type": "markdown",
   "id": "recorded-emerald",
   "metadata": {},
   "source": [
    "### Crap I missed read an error \n",
    "> The requested range must be within the last 60 days.\n",
    "\n",
    "So it's not \"The requested range must be within the 60 days\"... Shit"
   ]
  },
  {
   "cell_type": "code",
   "execution_count": null,
   "id": "defensive-quantity",
   "metadata": {},
   "outputs": [],
   "source": [
    "# print(\"current: \", df.index[0].date())\n",
    "# print(\"final: \", df.index[-1].date())\n",
    "\n",
    "# current = df.index[0]#.date()\n",
    "# final = datetime.datetime.now().date() #df.index[-1]#.date()\n",
    "# list_of_DF = []\n",
    "# while current < final:\n",
    "#     final = current+relativedelta(days=+50)\n",
    "    \n",
    "#     ts = yf.download('SU.to', interval = \"5m\", start=current, end=final).drop(['Adj Close', \"Volume\"],axis=1)\n",
    "#     list_of_DF.append(ts)\n",
    "    \n",
    "#     current = final\n",
    "    \n",
    "# ts = pd.concat(list_of_DF)\n",
    "# ts"
   ]
  }
 ],
 "metadata": {
  "kernelspec": {
   "display_name": "Python 3",
   "language": "python",
   "name": "python3"
  },
  "language_info": {
   "codemirror_mode": {
    "name": "ipython",
    "version": 3
   },
   "file_extension": ".py",
   "mimetype": "text/x-python",
   "name": "python",
   "nbconvert_exporter": "python",
   "pygments_lexer": "ipython3",
   "version": "3.7.9"
  },
  "pycharm": {
   "stem_cell": {
    "cell_type": "raw",
    "metadata": {
     "collapsed": false
    },
    "source": [
     "import pandas as pd\n",
     "import numpy as np\n",
     "\n",
     "df = pd.read_csv('SU transcations.csv')\n",
     "df.head(5)"
    ]
   }
  }
 },
 "nbformat": 4,
 "nbformat_minor": 5
}
